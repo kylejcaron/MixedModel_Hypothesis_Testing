{
 "cells": [
  {
   "cell_type": "code",
   "execution_count": 2,
   "metadata": {},
   "outputs": [],
   "source": [
    "import pandas as pd\n",
    "import numpy as np\n",
    "import scipy.stats as scs\n",
    "import statsmodels.api as sm\n",
    "import statsmodels.formula.api as smf\n",
    "\n",
    "%matplotlib inline\n",
    "import matplotlib.pyplot as plt\n",
    "import seaborn as sns\n",
    "\n",
    "import random\n",
    "import warnings\n",
    "warnings.filterwarnings('ignore')"
   ]
  },
  {
   "cell_type": "code",
   "execution_count": 3,
   "metadata": {},
   "outputs": [],
   "source": [
    "RANDOM_STATE = 99"
   ]
  },
  {
   "cell_type": "markdown",
   "metadata": {},
   "source": [
    "# Background\n",
    "\n",
    "(This notebook is currently WIP) The goal of this notebook is to illustrate the dangers of Hypothesis Testing when the dataset contains __correlated observations__ violating the assumption of `Independent and Identically Distributed` observations. \n",
    "\n",
    "This is one of the most common errors made in hypothesis testing, as many experiments in industry will have multiple observations per user in each testing group. A quick example of what that looks like:"
   ]
  },
  {
   "cell_type": "code",
   "execution_count": 12,
   "metadata": {},
   "outputs": [
    {
     "data": {
      "text/html": [
       "<div>\n",
       "<style scoped>\n",
       "    .dataframe tbody tr th:only-of-type {\n",
       "        vertical-align: middle;\n",
       "    }\n",
       "\n",
       "    .dataframe tbody tr th {\n",
       "        vertical-align: top;\n",
       "    }\n",
       "\n",
       "    .dataframe thead th {\n",
       "        text-align: right;\n",
       "    }\n",
       "</style>\n",
       "<table border=\"1\" class=\"dataframe\">\n",
       "  <thead>\n",
       "    <tr style=\"text-align: right;\">\n",
       "      <th></th>\n",
       "      <th>Group</th>\n",
       "      <th>User</th>\n",
       "      <th>Conversion</th>\n",
       "    </tr>\n",
       "    <tr>\n",
       "      <th>Observation #</th>\n",
       "      <th></th>\n",
       "      <th></th>\n",
       "      <th></th>\n",
       "    </tr>\n",
       "  </thead>\n",
       "  <tbody>\n",
       "    <tr>\n",
       "      <th>1</th>\n",
       "      <td>A</td>\n",
       "      <td>10001</td>\n",
       "      <td>1</td>\n",
       "    </tr>\n",
       "    <tr>\n",
       "      <th>2</th>\n",
       "      <td>A</td>\n",
       "      <td>10027</td>\n",
       "      <td>0</td>\n",
       "    </tr>\n",
       "    <tr>\n",
       "      <th>3</th>\n",
       "      <td>A</td>\n",
       "      <td>10920</td>\n",
       "      <td>1</td>\n",
       "    </tr>\n",
       "    <tr>\n",
       "      <th>4</th>\n",
       "      <td>A</td>\n",
       "      <td>10001</td>\n",
       "      <td>1</td>\n",
       "    </tr>\n",
       "    <tr>\n",
       "      <th>5</th>\n",
       "      <td>A</td>\n",
       "      <td>10920</td>\n",
       "      <td>0</td>\n",
       "    </tr>\n",
       "    <tr>\n",
       "      <th>6</th>\n",
       "      <td>B</td>\n",
       "      <td>14208</td>\n",
       "      <td>1</td>\n",
       "    </tr>\n",
       "    <tr>\n",
       "      <th>7</th>\n",
       "      <td>B</td>\n",
       "      <td>12259</td>\n",
       "      <td>0</td>\n",
       "    </tr>\n",
       "    <tr>\n",
       "      <th>8</th>\n",
       "      <td>B</td>\n",
       "      <td>14208</td>\n",
       "      <td>1</td>\n",
       "    </tr>\n",
       "    <tr>\n",
       "      <th>9</th>\n",
       "      <td>B</td>\n",
       "      <td>74022</td>\n",
       "      <td>0</td>\n",
       "    </tr>\n",
       "    <tr>\n",
       "      <th>10</th>\n",
       "      <td>B</td>\n",
       "      <td>51001</td>\n",
       "      <td>0</td>\n",
       "    </tr>\n",
       "  </tbody>\n",
       "</table>\n",
       "</div>"
      ],
      "text/plain": [
       "              Group   User  Conversion\n",
       "Observation #                         \n",
       "1                 A  10001           1\n",
       "2                 A  10027           0\n",
       "3                 A  10920           1\n",
       "4                 A  10001           1\n",
       "5                 A  10920           0\n",
       "6                 B  14208           1\n",
       "7                 B  12259           0\n",
       "8                 B  14208           1\n",
       "9                 B  74022           0\n",
       "10                B  51001           0"
      ]
     },
     "execution_count": 12,
     "metadata": {},
     "output_type": "execute_result"
    }
   ],
   "source": [
    "groups = ['A']*5 + ['B']*5\n",
    "users = [10001, 10027, 10920, 10001, 10920, 14208, 12259, 14208, 74022, 51001]\n",
    "conversion = [1, 0, 1, 1, 0, 1, 0, 1, 0, 0]\n",
    "pd.DataFrame({'Observation #':range(1,11), 'Group':groups,'User':users, 'Conversion':conversion}).set_index('Observation #')"
   ]
  },
  {
   "cell_type": "markdown",
   "metadata": {},
   "source": [
    "Notice how users `10001`, `10920`, and `14208` have multiple observations in the dataset. This means that\n",
    " - observations 1 and 4 are correlated\n",
    " - obervations 3 and 5 are correlated\n",
    " - observations 6 and 8 are correlated\n",
    " \n",
    "To put it simply, there is __within user correlation__\n",
    "\n",
    "The goal of this notebook will be to illustrate the potential dangers of hypothesis testing under these conditions, as well as illustrate solutions to account for correlated observations"
   ]
  },
  {
   "cell_type": "markdown",
   "metadata": {},
   "source": [
    "# The Experiment\n",
    "\n",
    "There are 2 datasets that will be used here,  `Conversions` and `Spend`, which are randomly generated datasets with correlated observations. The goal of this notebook is to demonstrate the problem with hypothesis testing when the assumptions of __iid__, __independent and identically distributed__ random variables, do not hold true"
   ]
  },
  {
   "cell_type": "markdown",
   "metadata": {},
   "source": [
    "### The Issue\n",
    "\n",
    "The dataframe, `conversions`, is going to be randomly split up (via `simple random sampling`)  into two groups, A and B. We are going to run a hypothesis test on the two randomly assigned groups with $\\alpha = 0.05$. Since it is simple random sampling, there should be no significant difference between groups A and B, so we should only obtain a significant results 5% of the time (what we set $\\alpha$ at).\n",
    "\n",
    "We are going to do this repeatedly, and should expect to see only 5% of the results be significant."
   ]
  },
  {
   "cell_type": "code",
   "execution_count": 3,
   "metadata": {},
   "outputs": [
    {
     "data": {
      "text/html": [
       "<div>\n",
       "<style scoped>\n",
       "    .dataframe tbody tr th:only-of-type {\n",
       "        vertical-align: middle;\n",
       "    }\n",
       "\n",
       "    .dataframe tbody tr th {\n",
       "        vertical-align: top;\n",
       "    }\n",
       "\n",
       "    .dataframe thead th {\n",
       "        text-align: right;\n",
       "    }\n",
       "</style>\n",
       "<table border=\"1\" class=\"dataframe\">\n",
       "  <thead>\n",
       "    <tr style=\"text-align: right;\">\n",
       "      <th></th>\n",
       "      <th>Employee</th>\n",
       "      <th>Conversion</th>\n",
       "    </tr>\n",
       "  </thead>\n",
       "  <tbody>\n",
       "    <tr>\n",
       "      <th>0</th>\n",
       "      <td>16212</td>\n",
       "      <td>1</td>\n",
       "    </tr>\n",
       "    <tr>\n",
       "      <th>1</th>\n",
       "      <td>42809</td>\n",
       "      <td>1</td>\n",
       "    </tr>\n",
       "    <tr>\n",
       "      <th>2</th>\n",
       "      <td>42809</td>\n",
       "      <td>1</td>\n",
       "    </tr>\n",
       "    <tr>\n",
       "      <th>3</th>\n",
       "      <td>42809</td>\n",
       "      <td>1</td>\n",
       "    </tr>\n",
       "    <tr>\n",
       "      <th>4</th>\n",
       "      <td>51206</td>\n",
       "      <td>1</td>\n",
       "    </tr>\n",
       "  </tbody>\n",
       "</table>\n",
       "</div>"
      ],
      "text/plain": [
       "   Employee  Conversion\n",
       "0     16212           1\n",
       "1     42809           1\n",
       "2     42809           1\n",
       "3     42809           1\n",
       "4     51206           1"
      ]
     },
     "execution_count": 3,
     "metadata": {},
     "output_type": "execute_result"
    }
   ],
   "source": [
    "conversions = pd.read_csv('./data/Conversions.csv')\n",
    "conversions.head()"
   ]
  },
  {
   "cell_type": "markdown",
   "metadata": {},
   "source": [
    "### Splitting Employees"
   ]
  },
  {
   "cell_type": "code",
   "execution_count": 4,
   "metadata": {},
   "outputs": [],
   "source": [
    "def assign_groups(employees):\n",
    "    '''\n",
    "    Accepts a Pandas Series type as input, and randomly assigns \n",
    "    50% of users to group A and 50% of users to group B\n",
    "    '''\n",
    "    \n",
    "    A = pd.Series(employees.unique()).sample(frac=0.5).values\n",
    "    B = employees[~employees.isin(A)].unique()\n",
    "    if np.random.uniform() < 0.5:\n",
    "        return A, B\n",
    "    return B, A\n",
    "        "
   ]
  },
  {
   "cell_type": "code",
   "execution_count": 5,
   "metadata": {},
   "outputs": [],
   "source": [
    "A, B = assign_groups(conversions['Employee'])"
   ]
  },
  {
   "cell_type": "markdown",
   "metadata": {},
   "source": [
    "We also need a function to get each observation for the employees from each group"
   ]
  },
  {
   "cell_type": "code",
   "execution_count": 6,
   "metadata": {},
   "outputs": [],
   "source": [
    "def get_dataset(df, group):\n",
    "    df = df.copy()\n",
    "    return df[df.Employee.isin(group)]"
   ]
  },
  {
   "cell_type": "markdown",
   "metadata": {},
   "source": [
    "And lastly, a function to get the parameters we need for our hypothesis test:\n",
    "    * 1) The number of conversions\n",
    "    * 2) The number of Trials"
   ]
  },
  {
   "cell_type": "code",
   "execution_count": 7,
   "metadata": {},
   "outputs": [],
   "source": [
    "def get_params(df):\n",
    "    N = df.shape[0]\n",
    "    print\n",
    "    c = df['Conversion'].sum()\n",
    "    return N, c"
   ]
  },
  {
   "cell_type": "markdown",
   "metadata": {},
   "source": [
    "Great, we now have a functions that randomly assigns users to a group, pull their observations from our dataset, and return their conversion rate parameters. Now we will run repeated hypothesis tests, and should expect only 5% return significant results. Since we are working with conversion rates, will will use a __Two Proportion Z-Test__ using statsmodels.\n",
    "\n",
    "We will run 1000 repeated hypothesis tests, and should therefore expect 50 significant results"
   ]
  },
  {
   "cell_type": "code",
   "execution_count": 8,
   "metadata": {},
   "outputs": [],
   "source": [
    "experiment_results = []\n",
    "\n",
    "for _ in range(1000):\n",
    "    A, B = assign_groups(conversions['Employee'])\n",
    "    dfA, dfB = get_dataset(conversions, A), get_dataset(conversions, B)\n",
    "    NA, cA = get_params(dfA)\n",
    "    NB, cB = get_params(dfB)\n",
    "    _, pval = sm.stats.proportions_ztest((cA, cB), (NA, NB))\n",
    "    experiment_results.append(pval)\n",
    "\n",
    "experiment_results = np.array(experiment_results)"
   ]
  },
  {
   "cell_type": "code",
   "execution_count": 9,
   "metadata": {},
   "outputs": [
    {
     "data": {
      "text/plain": [
       "(4988, 5729)"
      ]
     },
     "execution_count": 9,
     "metadata": {},
     "output_type": "execute_result"
    }
   ],
   "source": [
    "NA, NB"
   ]
  },
  {
   "cell_type": "code",
   "execution_count": 10,
   "metadata": {},
   "outputs": [
    {
     "data": {
      "text/plain": [
       "430"
      ]
     },
     "execution_count": 10,
     "metadata": {},
     "output_type": "execute_result"
    }
   ],
   "source": [
    "(experiment_results < 0.05).sum()"
   ]
  },
  {
   "cell_type": "markdown",
   "metadata": {},
   "source": [
    "We have a lot more than 50 significant results, in fact almost half of the results are significant. So what happened? \n",
    "\n",
    "We violated one of the basic assumptions of this hypothesis test, __iid__ observations. Since some users have multiple observations, our observations are not __iid__, they are in fact correlated.\n",
    "\n",
    "__So how can we correct for this?__\n",
    "\n",
    "\n",
    "### Method 1: Only have 1 observation per user\n",
    "\n",
    "If we limit our experiment to only 1 observation per user, we will satisfy the requirements for iid. Below, I will make a new `get_dataset` function that only returns 1 observation for each users"
   ]
  },
  {
   "cell_type": "code",
   "execution_count": 11,
   "metadata": {},
   "outputs": [],
   "source": [
    "def get_dataset_single_record(df, group):\n",
    "    df = df.copy()\n",
    "    df = df[df.Employee.isin(group)]\n",
    "    # selects only the first observation for each user\n",
    "    df = df.groupby('Employee').first() \n",
    "    return df.reset_index()"
   ]
  },
  {
   "cell_type": "markdown",
   "metadata": {},
   "source": [
    "Great, now let's repeat this experiment"
   ]
  },
  {
   "cell_type": "code",
   "execution_count": 12,
   "metadata": {},
   "outputs": [],
   "source": [
    "experiment_results = []\n",
    "\n",
    "for _ in range(1000):\n",
    "    A, B = assign_groups(conversions['Employee'])\n",
    "    dfA, dfB = get_dataset_single_record(conversions, A), get_dataset_single_record(conversions, B)\n",
    "    NA, cA = get_params(dfA)\n",
    "    NB, cB = get_params(dfB)\n",
    "    _, pval = sm.stats.proportions_ztest((cA, cB), (NA, NB))\n",
    "    experiment_results.append(pval)\n",
    "\n",
    "experiment_results = np.array(experiment_results)"
   ]
  },
  {
   "cell_type": "code",
   "execution_count": 13,
   "metadata": {},
   "outputs": [
    {
     "data": {
      "text/plain": [
       "(498, 498)"
      ]
     },
     "execution_count": 13,
     "metadata": {},
     "output_type": "execute_result"
    }
   ],
   "source": [
    "NA, NB"
   ]
  },
  {
   "cell_type": "code",
   "execution_count": 14,
   "metadata": {},
   "outputs": [
    {
     "data": {
      "text/plain": [
       "64"
      ]
     },
     "execution_count": 14,
     "metadata": {},
     "output_type": "execute_result"
    }
   ],
   "source": [
    "(experiment_results < 0.05).sum()"
   ]
  },
  {
   "cell_type": "markdown",
   "metadata": {},
   "source": [
    "That is much closer to what we'd expect! However, take a look at the number of observations in each group `NA` and `NB` and compare them to the number of observations in the first simulation: __we've thrown out 90% of our data in the process.__ _Surely there must be a better way_\n",
    "\n",
    "And there is: __Generalized Linear Mixed Models (GLMMs)__!\n",
    "\n",
    "With GLMMs, we can run hypothesis tests using all of the data we have at our disposal, without having to worry about the assumption of iid observations.\n",
    "\n",
    "How does the model accomplish this? In this case, since there is correlation __within users__, we fit random intercepts for each user to account for it.\n",
    "\n",
    "Let's start with a simple walkthrough of the `mixedlm` function from `statsmodels`. "
   ]
  },
  {
   "cell_type": "code",
   "execution_count": 15,
   "metadata": {},
   "outputs": [
    {
     "data": {
      "text/html": [
       "<div>\n",
       "<style scoped>\n",
       "    .dataframe tbody tr th:only-of-type {\n",
       "        vertical-align: middle;\n",
       "    }\n",
       "\n",
       "    .dataframe tbody tr th {\n",
       "        vertical-align: top;\n",
       "    }\n",
       "\n",
       "    .dataframe thead th {\n",
       "        text-align: right;\n",
       "    }\n",
       "</style>\n",
       "<table border=\"1\" class=\"dataframe\">\n",
       "  <thead>\n",
       "    <tr style=\"text-align: right;\">\n",
       "      <th></th>\n",
       "      <th>Employee</th>\n",
       "      <th>Conversion</th>\n",
       "      <th>group</th>\n",
       "    </tr>\n",
       "  </thead>\n",
       "  <tbody>\n",
       "    <tr>\n",
       "      <th>0</th>\n",
       "      <td>16212</td>\n",
       "      <td>1</td>\n",
       "      <td>A</td>\n",
       "    </tr>\n",
       "    <tr>\n",
       "      <th>7</th>\n",
       "      <td>23178</td>\n",
       "      <td>0</td>\n",
       "      <td>A</td>\n",
       "    </tr>\n",
       "    <tr>\n",
       "      <th>8</th>\n",
       "      <td>23178</td>\n",
       "      <td>0</td>\n",
       "      <td>A</td>\n",
       "    </tr>\n",
       "    <tr>\n",
       "      <th>9</th>\n",
       "      <td>23178</td>\n",
       "      <td>0</td>\n",
       "      <td>A</td>\n",
       "    </tr>\n",
       "    <tr>\n",
       "      <th>11</th>\n",
       "      <td>12034</td>\n",
       "      <td>1</td>\n",
       "      <td>A</td>\n",
       "    </tr>\n",
       "  </tbody>\n",
       "</table>\n",
       "</div>"
      ],
      "text/plain": [
       "    Employee  Conversion group\n",
       "0      16212           1     A\n",
       "7      23178           0     A\n",
       "8      23178           0     A\n",
       "9      23178           0     A\n",
       "11     12034           1     A"
      ]
     },
     "execution_count": 15,
     "metadata": {},
     "output_type": "execute_result"
    }
   ],
   "source": [
    "A, B = assign_groups(conversions['Employee'])\n",
    "dfA, dfB = get_dataset(conversions, A), get_dataset(conversions, B)\n",
    "\n",
    "def concat_groups(dfA, dfB):\n",
    "    dfA, dfB = dfA.copy(), dfB.copy()\n",
    "    dfA['group'] = ['A']*dfA.shape[0]\n",
    "    dfB['group'] = ['B']*dfB.shape[0]\n",
    "    return pd.concat((dfA,dfB))\n",
    "\n",
    "test = concat_groups(dfA, dfB)\n",
    "test.head()"
   ]
  },
  {
   "cell_type": "markdown",
   "metadata": {},
   "source": [
    "We're going to have to interface to `R` with `rpy2`. While Statsmodels supports mixed linear models, their support and documentation for mixed logit models isn't great. For a good intro to rpy2, check out this [article](https://towardsdatascience.com/guide-to-r-and-python-in-a-single-jupyter-notebook-ff12532eb3ba)"
   ]
  },
  {
   "cell_type": "code",
   "execution_count": 16,
   "metadata": {},
   "outputs": [
    {
     "name": "stderr",
     "output_type": "stream",
     "text": [
      "R[write to console]: Loading required package: Matrix\n",
      "\n"
     ]
    }
   ],
   "source": [
    "import rpy2.robjects as robjects\n",
    "from rpy2.robjects.packages import importr\n",
    "from rpy2.robjects import pandas2ri\n",
    "base = importr('base')\n",
    "base.library('lme4')\n",
    "# Handle warnings\n",
    "from rpy2.rinterface import RRuntimeWarning\n",
    "warnings.filterwarnings(\"ignore\", category=RRuntimeWarning)\n",
    "from rpy2.rinterface_lib.callbacks import logger as rpy2_logger\n",
    "import logging\n",
    "rpy2_logger.setLevel(logging.ERROR)"
   ]
  },
  {
   "cell_type": "markdown",
   "metadata": {},
   "source": [
    "First we'll initialize a glmer model from the lme4 package"
   ]
  },
  {
   "cell_type": "code",
   "execution_count": 17,
   "metadata": {},
   "outputs": [],
   "source": [
    "glmm = robjects.r['glmer']"
   ]
  },
  {
   "cell_type": "markdown",
   "metadata": {},
   "source": [
    "Next we'll initialize our formula:\n",
    "\n",
    "$$\n",
    "Conversion ~ group + (1|Employee) \n",
    "$$\n",
    "\n",
    "where $(1|Employee)$ specifies random intercepts for Employees in the dataset"
   ]
  },
  {
   "cell_type": "code",
   "execution_count": 18,
   "metadata": {},
   "outputs": [],
   "source": [
    "# Initialize formula\n",
    "formula = robjects.Formula(\"Conversion ~ group + (1|Employee)\")\n",
    "formula.environment['Conversion'] = robjects.IntVector(test['Conversion'])\n",
    "formula.environment['group'] = robjects.StrVector(test['group'])\n",
    "formula.environment['Employee'] = robjects.IntVector(test['Employee'])\n",
    "\n",
    "# We also need to specify the family of GLMM we will be using.\n",
    "# In this case it is the binomial family (link=logit)\n",
    "fam = robjects.r('binomial(link=\"logit\")')"
   ]
  },
  {
   "cell_type": "markdown",
   "metadata": {},
   "source": [
    "Lastly, we'll specify the model and checkout the output"
   ]
  },
  {
   "cell_type": "code",
   "execution_count": 19,
   "metadata": {},
   "outputs": [
    {
     "name": "stdout",
     "output_type": "stream",
     "text": [
      "Generalized linear mixed model fit by maximum likelihood (Laplace\n",
      "  Approximation) [glmerMod]\n",
      " Family: binomial  ( logit )\n",
      "Formula: Conversion ~ group + (1 | Employee)\n",
      "\n",
      "     AIC      BIC   logLik deviance df.resid \n",
      " 13894.1  13915.9  -6944.0  13888.1    10714 \n",
      "\n",
      "Scaled residuals: \n",
      "    Min      1Q  Median      3Q     Max \n",
      "-3.7564 -0.8027 -0.5456  0.8847  2.8914 \n",
      "\n",
      "Random effects:\n",
      " Groups   Name        Variance Std.Dev.\n",
      " Employee (Intercept) 0.746    0.8637  \n",
      "Number of obs: 10717, groups:  Employee, 996\n",
      "\n",
      "Fixed effects:\n",
      "            Estimate Std. Error z value Pr(>|z|)  \n",
      "(Intercept) -0.13731    0.05854  -2.346    0.019 *\n",
      "groupB       0.02506    0.08175   0.307    0.759  \n",
      "---\n",
      "Signif. codes:  0 ‘***’ 0.001 ‘**’ 0.01 ‘*’ 0.05 ‘.’ 0.1 ‘ ’ 1\n",
      "\n",
      "Correlation of Fixed Effects:\n",
      "       (Intr)\n",
      "groupB -0.716\n",
      "\n"
     ]
    }
   ],
   "source": [
    "res = glmm(formula=formula, family = fam)\n",
    "print(base.summary(res))"
   ]
  },
  {
   "cell_type": "markdown",
   "metadata": {},
   "source": [
    "Looking at the summary above, a difference between groups is specified by the hypothesis test __P>|z|__ for __group[T.B]__. As expected, there is no significant difference between the groups. Now we just need an easy way to access the p-value"
   ]
  },
  {
   "cell_type": "code",
   "execution_count": 20,
   "metadata": {},
   "outputs": [
    {
     "data": {
      "text/html": [
       "<div>\n",
       "<style scoped>\n",
       "    .dataframe tbody tr th:only-of-type {\n",
       "        vertical-align: middle;\n",
       "    }\n",
       "\n",
       "    .dataframe tbody tr th {\n",
       "        vertical-align: top;\n",
       "    }\n",
       "\n",
       "    .dataframe thead th {\n",
       "        text-align: right;\n",
       "    }\n",
       "</style>\n",
       "<table border=\"1\" class=\"dataframe\">\n",
       "  <thead>\n",
       "    <tr style=\"text-align: right;\">\n",
       "      <th></th>\n",
       "      <th>Estimate</th>\n",
       "      <th>Std. Error</th>\n",
       "      <th>z value</th>\n",
       "      <th>Pr(&gt;|z|)</th>\n",
       "    </tr>\n",
       "  </thead>\n",
       "  <tbody>\n",
       "    <tr>\n",
       "      <th>(Intercept)</th>\n",
       "      <td>-0.137312</td>\n",
       "      <td>0.05854</td>\n",
       "      <td>-2.345619</td>\n",
       "      <td>0.018996</td>\n",
       "    </tr>\n",
       "    <tr>\n",
       "      <th>groupB</th>\n",
       "      <td>0.025057</td>\n",
       "      <td>0.08175</td>\n",
       "      <td>0.306510</td>\n",
       "      <td>0.759216</td>\n",
       "    </tr>\n",
       "  </tbody>\n",
       "</table>\n",
       "</div>"
      ],
      "text/plain": [
       "             Estimate  Std. Error   z value  Pr(>|z|)\n",
       "(Intercept) -0.137312     0.05854 -2.345619  0.018996\n",
       "groupB       0.025057     0.08175  0.306510  0.759216"
      ]
     },
     "execution_count": 20,
     "metadata": {},
     "output_type": "execute_result"
    }
   ],
   "source": [
    "coefs = base.summary(res).rx2('coefficients')\n",
    "summary = pd.DataFrame(pandas2ri.ri2py_vector(coefs), index=coefs.names[0], columns=coefs.names[1])\n",
    "summary"
   ]
  },
  {
   "cell_type": "code",
   "execution_count": 21,
   "metadata": {},
   "outputs": [
    {
     "data": {
      "text/plain": [
       "0.7592161614659696"
      ]
     },
     "execution_count": 21,
     "metadata": {},
     "output_type": "execute_result"
    }
   ],
   "source": [
    "pval = summary.loc['groupB','Pr(>|z|)']\n",
    "pval"
   ]
  },
  {
   "cell_type": "markdown",
   "metadata": {},
   "source": [
    "Let's run our simulation again, using this hypothesis test"
   ]
  },
  {
   "cell_type": "code",
   "execution_count": 22,
   "metadata": {
    "scrolled": true
   },
   "outputs": [],
   "source": [
    "def GLMM_hypothesis_test(df):\n",
    "    glmm = robjects.r['glmer']\n",
    "    # Initialize formula\n",
    "    formula = robjects.Formula(\"Conversion ~ group + (1|Employee)\")\n",
    "    formula.environment['Conversion'] = robjects.IntVector(df['Conversion'])\n",
    "    formula.environment['group'] = robjects.StrVector(df['group'])\n",
    "    formula.environment['Employee'] = robjects.IntVector(df['Employee'])\n",
    "    # Initialize model family as an R onject\n",
    "    fam = robjects.r('binomial(link=\"logit\")')\n",
    "    # Fit model, get p-value\n",
    "    res = glmm(formula=formula, family = fam)\n",
    "    coefs = base.summary(res).rx2('coefficients')\n",
    "    summary = pd.DataFrame(pandas2ri.ri2py_vector(coefs), index=coefs.names[0], columns=coefs.names[1])\n",
    "    pval = summary.loc['groupB','Pr(>|z|)']\n",
    "    return pval\n"
   ]
  },
  {
   "cell_type": "code",
   "execution_count": 23,
   "metadata": {},
   "outputs": [],
   "source": [
    "experiment_results = []\n",
    "\n",
    "for _ in range(100):\n",
    "    A, B = assign_groups(conversions['Employee'])\n",
    "    dfA, dfB = get_dataset(conversions, A), get_dataset(conversions, B)\n",
    "    testdf = concat_groups(dfA, dfB)\n",
    "    pval = GLMM_hypothesis_test(testdf)\n",
    "    experiment_results.append(pval)\n",
    "\n",
    "experiment_results = np.array(experiment_results)"
   ]
  },
  {
   "cell_type": "code",
   "execution_count": 24,
   "metadata": {},
   "outputs": [
    {
     "data": {
      "text/plain": [
       "6"
      ]
     },
     "execution_count": 24,
     "metadata": {},
     "output_type": "execute_result"
    }
   ],
   "source": [
    "(experiment_results < 0.05).sum()"
   ]
  },
  {
   "cell_type": "markdown",
   "metadata": {},
   "source": [
    "Great news, the Mixed Effects Hypothesis test worked! Roughly 5% of the 100 simulated tests were significant, matching the false positive rate ($\\alpha = 0.05$) chosen.\n",
    "\n",
    "# Hypothesis Test for Means\n",
    "\n",
    "So now we're familiar with A/B testing conversion rates between two groups with correlated observations. Let's repeat the same process, but with a hypothesis test of the means"
   ]
  },
  {
   "cell_type": "code",
   "execution_count": 25,
   "metadata": {},
   "outputs": [
    {
     "data": {
      "text/html": [
       "<div>\n",
       "<style scoped>\n",
       "    .dataframe tbody tr th:only-of-type {\n",
       "        vertical-align: middle;\n",
       "    }\n",
       "\n",
       "    .dataframe tbody tr th {\n",
       "        vertical-align: top;\n",
       "    }\n",
       "\n",
       "    .dataframe thead th {\n",
       "        text-align: right;\n",
       "    }\n",
       "</style>\n",
       "<table border=\"1\" class=\"dataframe\">\n",
       "  <thead>\n",
       "    <tr style=\"text-align: right;\">\n",
       "      <th></th>\n",
       "      <th>Employee</th>\n",
       "      <th>Spend</th>\n",
       "    </tr>\n",
       "  </thead>\n",
       "  <tbody>\n",
       "    <tr>\n",
       "      <th>0</th>\n",
       "      <td>16212</td>\n",
       "      <td>156.214205</td>\n",
       "    </tr>\n",
       "    <tr>\n",
       "      <th>1</th>\n",
       "      <td>42809</td>\n",
       "      <td>272.691438</td>\n",
       "    </tr>\n",
       "    <tr>\n",
       "      <th>2</th>\n",
       "      <td>42809</td>\n",
       "      <td>249.133289</td>\n",
       "    </tr>\n",
       "    <tr>\n",
       "      <th>3</th>\n",
       "      <td>42809</td>\n",
       "      <td>368.978348</td>\n",
       "    </tr>\n",
       "    <tr>\n",
       "      <th>4</th>\n",
       "      <td>51206</td>\n",
       "      <td>167.736721</td>\n",
       "    </tr>\n",
       "  </tbody>\n",
       "</table>\n",
       "</div>"
      ],
      "text/plain": [
       "   Employee       Spend\n",
       "0     16212  156.214205\n",
       "1     42809  272.691438\n",
       "2     42809  249.133289\n",
       "3     42809  368.978348\n",
       "4     51206  167.736721"
      ]
     },
     "execution_count": 25,
     "metadata": {},
     "output_type": "execute_result"
    }
   ],
   "source": [
    "spend = pd.read_csv('./data/Spend.csv')\n",
    "spend.head()"
   ]
  },
  {
   "cell_type": "markdown",
   "metadata": {},
   "source": [
    "Looking at the distributions below, it's clear we should use log(spend) for a standard hypothesis test "
   ]
  },
  {
   "cell_type": "code",
   "execution_count": 26,
   "metadata": {},
   "outputs": [
    {
     "data": {
      "text/plain": [
       "Text(0.5, 1.0, 'Log Distribution of Spend')"
      ]
     },
     "execution_count": 26,
     "metadata": {},
     "output_type": "execute_result"
    },
    {
     "data": {
      "image/png": "[encoded data removed]",
      "text/plain": [
       "<Figure size 1080x360 with 2 Axes>"
      ]
     },
     "metadata": {
      "needs_background": "light"
     },
     "output_type": "display_data"
    }
   ],
   "source": [
    "fig, ax = plt.subplots(1,2,figsize=(15,5))\n",
    "\n",
    "ax[0].hist(spend['Spend'], bins=50)\n",
    "ax[0].set_title('Distribution of Spend')\n",
    "ax[1].hist(np.log(spend['Spend']+0.01), bins=50)\n",
    "ax[1].set_title('Log Distribution of Spend')\n"
   ]
  },
  {
   "cell_type": "code",
   "execution_count": 27,
   "metadata": {},
   "outputs": [],
   "source": [
    "def log_transform(series, invert=False):\n",
    "    if invert:\n",
    "        return np.exp(series) - 0.01\n",
    "    return np.log(series+0.01)"
   ]
  },
  {
   "cell_type": "code",
   "execution_count": 28,
   "metadata": {},
   "outputs": [],
   "source": [
    "spend['Spend'] = log_transform(spend['Spend'])"
   ]
  },
  {
   "cell_type": "markdown",
   "metadata": {},
   "source": [
    "Let's simulate 1000 A/B tests again (the wrong way)"
   ]
  },
  {
   "cell_type": "code",
   "execution_count": 29,
   "metadata": {},
   "outputs": [],
   "source": [
    "A, B = assign_groups(spend['Employee'])\n",
    "dfA, dfB = get_dataset(spend, A), get_dataset(spend, B)\n"
   ]
  },
  {
   "cell_type": "code",
   "execution_count": 30,
   "metadata": {},
   "outputs": [],
   "source": [
    "experiment_results = []\n",
    "\n",
    "for _ in range(1000):\n",
    "    A, B = assign_groups(spend['Employee'])\n",
    "    dfA, dfB = get_dataset(spend, A), get_dataset(spend, B)\n",
    "    _, pval = sm.stats.ztest(dfA['Spend'], dfB['Spend'])\n",
    "    experiment_results.append(pval)\n",
    "\n",
    "experiment_results = np.array(experiment_results)"
   ]
  },
  {
   "cell_type": "code",
   "execution_count": 31,
   "metadata": {},
   "outputs": [
    {
     "data": {
      "text/plain": [
       "470"
      ]
     },
     "execution_count": 31,
     "metadata": {},
     "output_type": "execute_result"
    }
   ],
   "source": [
    "(experiment_results < 0.05).sum()"
   ]
  },
  {
   "cell_type": "markdown",
   "metadata": {},
   "source": [
    "And as expected, the correlated observations are screwing up our hypothesis tests again. We expected to see only 50 significant results, but saw closer to 500.\n",
    "\n",
    "Let's repeat our previous process and fit a Mixed Effect Model, however this time we can do it entirely in Python since it is well support by statsmodels. A great example of this can be found [here](http://www.statsmodels.org/0.6.1/examples/notebooks/generated/mixed_lm_example.html)"
   ]
  },
  {
   "cell_type": "code",
   "execution_count": 32,
   "metadata": {},
   "outputs": [],
   "source": [
    "test = concat_groups(dfA, dfB)"
   ]
  },
  {
   "cell_type": "code",
   "execution_count": 33,
   "metadata": {
    "scrolled": true
   },
   "outputs": [
    {
     "data": {
      "text/html": [
       "<table class=\"simpletable\">\n",
       "<tr>\n",
       "       <td>Model:</td>       <td>MixedLM</td> <td>Dependent Variable:</td>    <td>Spend</td>   \n",
       "</tr>\n",
       "<tr>\n",
       "  <td>No. Observations:</td>  <td>10504</td>        <td>Method:</td>          <td>REML</td>    \n",
       "</tr>\n",
       "<tr>\n",
       "     <td>No. Groups:</td>      <td>994</td>         <td>Scale:</td>          <td>0.5221</td>   \n",
       "</tr>\n",
       "<tr>\n",
       "  <td>Min. group size:</td>     <td>1</td>        <td>Likelihood:</td>     <td>-12048.6752</td>\n",
       "</tr>\n",
       "<tr>\n",
       "  <td>Max. group size:</td>    <td>155</td>       <td>Converged:</td>          <td>Yes</td>    \n",
       "</tr>\n",
       "<tr>\n",
       "  <td>Mean group size:</td>   <td>10.6</td>            <td></td>                <td></td>      \n",
       "</tr>\n",
       "</table>\n",
       "<table class=\"simpletable\">\n",
       "<tr>\n",
       "       <td></td>      <th>Coef.</th> <th>Std.Err.</th>    <th>z</th>    <th>P>|z|</th> <th>[0.025</th> <th>0.975]</th>\n",
       "</tr>\n",
       "<tr>\n",
       "  <th>Intercept</th>  <td>5.868</td>   <td>0.024</td>  <td>240.618</td> <td>0.000</td>  <td>5.820</td>  <td>5.915</td>\n",
       "</tr>\n",
       "<tr>\n",
       "  <th>group[T.B]</th> <td>0.038</td>   <td>0.034</td>   <td>1.102</td>  <td>0.270</td> <td>-0.029</td>  <td>0.105</td>\n",
       "</tr>\n",
       "<tr>\n",
       "  <th>Group Var</th>  <td>0.171</td>   <td>0.018</td>     <td></td>       <td></td>       <td></td>       <td></td>   \n",
       "</tr>\n",
       "</table>"
      ],
      "text/plain": [
       "<class 'statsmodels.iolib.summary2.Summary'>\n",
       "\"\"\"\n",
       "          Mixed Linear Model Regression Results\n",
       "=========================================================\n",
       "Model:            MixedLM Dependent Variable: Spend      \n",
       "No. Observations: 10504   Method:             REML       \n",
       "No. Groups:       994     Scale:              0.5221     \n",
       "Min. group size:  1       Likelihood:         -12048.6752\n",
       "Max. group size:  155     Converged:          Yes        \n",
       "Mean group size:  10.6                                   \n",
       "---------------------------------------------------------\n",
       "               Coef. Std.Err.    z    P>|z| [0.025 0.975]\n",
       "---------------------------------------------------------\n",
       "Intercept      5.868    0.024 240.618 0.000  5.820  5.915\n",
       "group[T.B]     0.038    0.034   1.102 0.270 -0.029  0.105\n",
       "Group Var      0.171    0.018                            \n",
       "=========================================================\n",
       "\n",
       "\"\"\""
      ]
     },
     "execution_count": 33,
     "metadata": {},
     "output_type": "execute_result"
    }
   ],
   "source": [
    "model = smf.mixedlm('Spend ~ group', test, groups = test['Employee'])\n",
    "res = model.fit()\n",
    "res.summary()"
   ]
  },
  {
   "cell_type": "markdown",
   "metadata": {},
   "source": [
    "Next, creating a function to run the model and extract the p-value"
   ]
  },
  {
   "cell_type": "code",
   "execution_count": 34,
   "metadata": {},
   "outputs": [],
   "source": [
    "def LMM_hypothesis_test(df):\n",
    "    df = df.copy()\n",
    "    model = smf.mixedlm('Spend ~ group', df, groups = df['Employee'])\n",
    "    res = model.fit()\n",
    "    return res.pvalues['group[T.B]']"
   ]
  },
  {
   "cell_type": "markdown",
   "metadata": {},
   "source": [
    "Finally, we can run repeated simulations of the hypothesis test and confirm we don't get significant results more than 5% of the time (it's a slow process, so I'm only running 100 simulations)"
   ]
  },
  {
   "cell_type": "code",
   "execution_count": 35,
   "metadata": {},
   "outputs": [],
   "source": [
    "experiment_results = []\n",
    "\n",
    "for _ in range(100):\n",
    "    A, B = assign_groups(spend['Employee'])\n",
    "    dfA, dfB = get_dataset(spend, A), get_dataset(spend, B)\n",
    "    testdf = concat_groups(dfA, dfB)\n",
    "    pval = LMM_hypothesis_test(testdf)\n",
    "    experiment_results.append(pval)\n",
    "experiment_results = np.array(experiment_results)"
   ]
  },
  {
   "cell_type": "code",
   "execution_count": 36,
   "metadata": {},
   "outputs": [
    {
     "data": {
      "text/plain": [
       "6"
      ]
     },
     "execution_count": 36,
     "metadata": {},
     "output_type": "execute_result"
    }
   ],
   "source": [
    "(experiment_results < 0.05).sum()"
   ]
  },
  {
   "cell_type": "markdown",
   "metadata": {},
   "source": [
    "Great news, this is exactly what was expected. We were able to show that correlated observations made the Z-tests effectively useless, but mixed effects models were able to correct for these correlated observations while using all of the data points available. So how can we use these Mixed Effects models for inference?\n",
    "\n",
    "To be continued..."
   ]
  }
 ],
 "metadata": {
  "kernelspec": {
   "display_name": "Python 3",
   "language": "python",
   "name": "python3"
  },
  "language_info": {
   "codemirror_mode": {
    "name": "ipython",
    "version": 3
   },
   "file_extension": ".py",
   "mimetype": "text/x-python",
   "name": "python",
   "nbconvert_exporter": "python",
   "pygments_lexer": "ipython3",
   "version": "3.7.5"
  }
 },
 "nbformat": 4,
 "nbformat_minor": 2
}
